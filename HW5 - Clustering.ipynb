{
 "cells": [
  {
   "cell_type": "markdown",
   "metadata": {},
   "source": [
    "# Name(s): Alan Tran and John Smith"
   ]
  },
  {
   "cell_type": "markdown",
   "metadata": {},
   "source": [
    "# Assignment 5: Clustering\n",
    "\n",
    "In this assignment we'll be looking at three popular types of clustering algorithms -- K-means clustering, Density-based clustering, and Hierarchical clustering. We'll also look at some measures of cluster quality like cohesion, separation and silhoutte coefficient."
   ]
  },
  {
   "cell_type": "markdown",
   "metadata": {},
   "source": [
    "## Part 1: Implement K-means Clustering\n",
    "\n",
    "In k-means clustering you are given a dataset and a hyperparameter, k, specifying the number of desired clusters. The objective function of k-means is to minimize the sum of squared error (SSE) of the resulting clusters. Unfortunately, this is an NP Hard problem. In this assignment we'll be implementing the iterative k-means algorithm that guarantees convergence, but does not guarantee the globally optimal solution."
   ]
  },
  {
   "cell_type": "code",
   "execution_count": 108,
   "metadata": {},
   "outputs": [],
   "source": [
    "# Some headers\n",
    "import random\n",
    "import numpy as np\n",
    "import pandas as pd\n",
    "import matplotlib.pyplot as plt\n",
    "import math\n",
    "from numpy.random import rand\n",
    "from numpy import square, sqrt\n",
    "from pandas import DataFrame\n",
    "from sklearn.manifold import MDS\n",
    "from sklearn.model_selection import StratifiedKFold\n",
    "from scipy.spatial.distance import pdist\n",
    "\n",
    "# Custom\n",
    "from scipy.spatial import distance"
   ]
  },
  {
   "cell_type": "code",
   "execution_count": 109,
   "metadata": {},
   "outputs": [],
   "source": [
    "# Enable inline mode for matplotlib so that IPython displays graphs.\n",
    "%matplotlib inline"
   ]
  },
  {
   "cell_type": "code",
   "execution_count": 176,
   "metadata": {},
   "outputs": [
    {
     "name": "stdout",
     "output_type": "stream",
     "text": [
      "[[-7.31697786e-01 -8.74310511e-01]\n",
      " [-5.47701973e-01 -5.80320203e-01]\n",
      " [-7.62839976e-01 -8.85572018e-01]\n",
      " [-3.40946325e-01 -8.10411475e-01]\n",
      " [-7.49064923e-01 -3.99218380e-01]\n",
      " [-7.06161245e-01 -8.76186792e-01]\n",
      " [-6.48088737e-01 -7.89023819e-01]\n",
      " [-6.09450498e-01 -6.52751597e-01]\n",
      " [-7.85217580e-01 -8.57567854e-01]\n",
      " [-4.20724436e-01 -9.39190576e-01]\n",
      " [-7.97475196e-01 -8.77264555e-01]\n",
      " [-5.12968782e-01 -7.31129813e-01]\n",
      " [-4.85801308e-01 -8.30858879e-01]\n",
      " [-9.36351857e-01 -7.85531081e-01]\n",
      " [-7.58531357e-01 -9.16834095e-01]\n",
      " [-6.49970426e-01 -8.92646140e-01]\n",
      " [-5.78042074e-01 -8.76254121e-01]\n",
      " [-5.62617844e-01 -7.54631840e-01]\n",
      " [-6.19663941e-01 -6.11433360e-01]\n",
      " [-7.16395163e-01 -8.58505881e-01]\n",
      " [-6.09546165e-01 -8.98145480e-01]\n",
      " [-9.63599223e-01 -8.43924074e-01]\n",
      " [-5.79774990e-01 -3.84433525e-01]\n",
      " [-5.63942100e-01 -6.34804456e-01]\n",
      " [-7.02129912e-01 -8.41372701e-01]\n",
      " [-5.59577410e-01 -7.05591319e-01]\n",
      " [-8.03842890e-01 -9.36777980e-01]\n",
      " [-5.64193333e-01 -9.57823113e-01]\n",
      " [-4.95373339e-01 -9.10562069e-01]\n",
      " [-4.79966890e-01 -9.60649971e-01]\n",
      " [-5.39350962e-01 -8.75531562e-01]\n",
      " [-4.61740466e-01 -9.77875155e-01]\n",
      " [-5.11665672e-01 -6.48032267e-01]\n",
      " [-7.01385343e-01 -8.19089564e-01]\n",
      " [-8.29215764e-01 -9.14358792e-01]\n",
      " [-3.87776486e-01 -6.96676145e-01]\n",
      " [-7.73218643e-01 -6.64531621e-01]\n",
      " [-8.55687515e-01 -6.39424675e-01]\n",
      " [-3.94401097e-01 -9.17048207e-01]\n",
      " [-9.51381160e-01 -7.12096099e-01]\n",
      " [-6.49503609e-01 -8.77773299e-01]\n",
      " [-7.28823906e-01 -7.85140003e-01]\n",
      " [-9.08432505e-01 -9.90099257e-01]\n",
      " [-7.43167589e-01 -7.62902850e-01]\n",
      " [-6.59727677e-01 -6.09445729e-01]\n",
      " [-9.55675769e-01  6.81204943e-01]\n",
      " [-5.97819492e-01  5.69272831e-01]\n",
      " [-8.62988132e-01  7.38701437e-01]\n",
      " [-9.99751861e-01  6.48856400e-01]\n",
      " [-8.95722898e-01  6.68959827e-01]\n",
      " [-8.31725288e-01  7.36876483e-01]\n",
      " [-8.86867365e-01  9.70260218e-01]\n",
      " [-9.50994891e-01  6.05215575e-01]\n",
      " [-9.90727307e-01  5.31663258e-01]\n",
      " [-9.33974541e-01  8.51684495e-01]\n",
      " [-7.87511774e-01  7.34394936e-01]\n",
      " [-9.78958653e-01  6.94009076e-01]\n",
      " [-7.81895421e-01  9.26618019e-01]\n",
      " [-7.24428090e-01  6.89752351e-01]\n",
      " [-9.14606966e-01  5.16196061e-01]\n",
      " [-6.89275083e-01  6.55096198e-01]\n",
      " [-9.95956609e-01  7.10688741e-01]\n",
      " [-8.46565623e-01  6.75539020e-01]\n",
      " [-7.10815530e-01  6.64446503e-01]\n",
      " [-9.82979554e-01  7.04538049e-01]\n",
      " [-9.64168155e-01  7.36997003e-01]\n",
      " [-9.39075538e-01  8.45006515e-01]\n",
      " [-7.34212177e-01  7.66362406e-01]\n",
      " [-9.74424212e-01  5.88288736e-01]\n",
      " [-8.20233814e-01  9.19144552e-01]\n",
      " [-7.73037961e-01  6.51527091e-01]\n",
      " [-9.09353732e-01  6.97931279e-01]\n",
      " [-8.34690653e-01  6.90446824e-01]\n",
      " [-8.18439856e-01  8.19614704e-01]\n",
      " [-9.29773604e-01  9.30518099e-01]\n",
      " [-8.81323608e-01  6.94134362e-01]\n",
      " [-6.96481869e-01  7.09730382e-01]\n",
      " [-9.03457155e-01  7.01028678e-01]\n",
      " [-9.82485736e-01  8.32186163e-01]\n",
      " [-9.22226455e-01  7.27941329e-01]\n",
      " [-8.47076668e-01  5.52158478e-01]\n",
      " [-9.52832553e-01  8.57115769e-01]\n",
      " [-8.50977892e-01  9.60706625e-01]\n",
      " [-7.02712214e-01  5.62955454e-01]\n",
      " [-8.03203919e-01  7.94707839e-01]\n",
      " [-7.11220549e-01  8.49699306e-01]\n",
      " [-9.00032671e-01  6.12232568e-01]\n",
      " [-8.82480234e-01  7.29171099e-01]\n",
      " [-9.87305027e-01  7.15250243e-01]\n",
      " [-8.84264071e-01  8.92835543e-01]\n",
      " [-4.83418208e-01  4.33522242e-01]\n",
      " [-9.21425200e-01  5.74821437e-01]\n",
      " [-6.81317464e-01  2.73132900e-01]\n",
      " [-5.60231272e-01  2.36794149e-01]\n",
      " [-7.39141703e-01  3.90742665e-01]\n",
      " [-8.14471531e-01  3.34597341e-01]\n",
      " [-9.38395772e-01  1.07479523e-01]\n",
      " [-4.75203930e-01  6.21296912e-01]\n",
      " [-4.76276762e-01  8.69135393e-02]\n",
      " [-3.97989653e-01  3.23667557e-01]\n",
      " [-5.54871916e-01  4.47810591e-01]\n",
      " [-4.53723883e-01  4.00332863e-01]\n",
      " [-6.19450383e-01  6.74320578e-01]\n",
      " [-4.65066601e-01  2.01105790e-01]\n",
      " [-2.97225242e-01  2.83106845e-01]\n",
      " [-5.93588206e-01  4.85161964e-01]\n",
      " [-5.58922895e-01  3.17504385e-01]\n",
      " [-7.37563671e-01  3.48730392e-01]\n",
      " [-4.88782552e-01  3.02093746e-01]\n",
      " [-3.07957450e-01  4.60918501e-01]\n",
      " [-3.97221849e-01  4.22359900e-01]\n",
      " [-8.58930852e-01  3.55195873e-02]\n",
      " [-4.89478427e-01  5.67764620e-01]\n",
      " [-6.40386080e-01  4.09052350e-01]\n",
      " [-5.51438413e-01  5.56911794e-01]\n",
      " [-5.99589606e-01  3.55339524e-01]\n",
      " [-5.68307406e-01  5.17905867e-01]\n",
      " [-6.35866779e-01  1.66613039e-01]\n",
      " [-4.37181919e-01  1.55455771e-01]\n",
      " [-4.82736835e-01  2.17513642e-01]\n",
      " [-5.63352065e-01  6.04137919e-01]\n",
      " [-6.79320367e-01  5.90325075e-01]\n",
      " [-7.45879474e-01  2.52909514e-01]\n",
      " [-4.31493329e-01  3.41485550e-01]\n",
      " [-6.59965304e-01  4.90572230e-01]\n",
      " [-7.31698062e-01  2.58828343e-01]\n",
      " [-7.42460607e-01  4.52271161e-01]\n",
      " [-5.60653707e-01  5.29511632e-02]\n",
      " [-7.29035341e-01  1.01829286e-01]\n",
      " [-2.46200536e-01  5.85702391e-03]\n",
      " [-7.13070929e-01  2.24538530e-01]\n",
      " [-6.54848054e-01  3.15175612e-01]\n",
      " [-5.11702123e-01  2.82043604e-01]\n",
      " [-4.72154917e-01  3.80938436e-01]\n",
      " [-3.70911763e-01  4.93100178e-01]\n",
      " [-1.38419175e-01 -5.43347292e-02]\n",
      " [ 8.98831553e-02 -2.14162286e-01]\n",
      " [ 1.76856634e-02 -2.68497342e-01]\n",
      " [-3.76411764e-01 -2.48332745e-02]\n",
      " [-9.28837781e-02 -1.41970105e-01]\n",
      " [-1.58111993e-01 -1.37539367e-01]\n",
      " [-1.37785438e-01 -1.91581463e-02]\n",
      " [-1.22527449e-01 -2.76954208e-01]\n",
      " [-1.83713788e-01 -3.34941036e-01]\n",
      " [ 4.76315075e-02 -3.19973943e-01]\n",
      " [-9.24631396e-02 -9.65742102e-02]\n",
      " [-1.97826738e-01 -2.69655519e-01]\n",
      " [-3.13008070e-01 -1.12722997e-01]\n",
      " [-5.50973264e-02 -7.95207599e-02]\n",
      " [-2.75961600e-01 -2.54902631e-01]\n",
      " [-3.24660010e-01 -3.49144801e-01]\n",
      " [-3.07340526e-01 -2.27555828e-01]\n",
      " [-1.46681537e-01 -2.13452410e-01]\n",
      " [-1.26879026e-01 -2.14252547e-01]\n",
      " [-1.44790564e-01 -2.42627007e-01]\n",
      " [-1.12973829e-01 -3.21579380e-01]\n",
      " [-6.47914202e-02 -1.46968653e-01]\n",
      " [-1.27984799e-01 -1.36638531e-01]\n",
      " [-6.26607090e-02 -2.05501867e-01]\n",
      " [-1.37690537e-01 -5.44994079e-02]\n",
      " [-6.58376194e-02 -1.38630732e-01]\n",
      " [-1.07017573e-01 -1.80879737e-01]\n",
      " [-1.93634699e-01 -1.48049294e-01]\n",
      " [-2.19024047e-01 -2.49787682e-01]\n",
      " [-1.77103249e-01 -2.63956214e-01]\n",
      " [-6.49863899e-02 -9.27654510e-02]\n",
      " [ 3.57547970e-02 -1.82195128e-01]\n",
      " [-5.19775378e-02 -6.34041494e-02]\n",
      " [-1.09623647e-01 -2.54726432e-01]\n",
      " [-1.08449284e-01 -3.11945440e-01]\n",
      " [-1.03477225e-01 -4.11155892e-01]\n",
      " [-2.48741220e-01 -1.52370643e-01]\n",
      " [-9.84725382e-02 -1.20749375e-01]\n",
      " [-2.00949596e-01 -4.45544086e-02]\n",
      " [-4.00205238e-02 -8.40961648e-02]\n",
      " [ 1.51857257e-01 -3.08205733e-01]\n",
      " [ 1.06365251e-02 -3.35287555e-01]\n",
      " [-1.14764509e-01  5.51793107e-02]\n",
      " [-2.52352389e-01 -9.19053338e-02]\n",
      " [-1.12516490e-01 -1.66876972e-01]\n",
      " [ 2.72765110e-01  5.67531670e-01]\n",
      " [ 1.13963795e-01  6.93949877e-01]\n",
      " [ 3.55686338e-01  9.14656319e-01]\n",
      " [ 2.56270801e-01  6.37869479e-01]\n",
      " [ 3.62375684e-01  7.68785140e-01]\n",
      " [ 2.67186963e-01  7.88873707e-01]\n",
      " [ 3.74121247e-01  8.84715409e-01]\n",
      " [ 1.79095101e-01  5.32660328e-01]\n",
      " [ 3.14203451e-01  5.70893992e-01]\n",
      " [ 2.49020111e-01  7.64778925e-01]\n",
      " [ 4.45372688e-01  7.12426292e-01]\n",
      " [ 4.00594404e-01  6.43706375e-01]\n",
      " [ 4.57155152e-01  9.44394348e-01]\n",
      " [ 1.58387962e-01  6.37440223e-01]\n",
      " [ 2.86552172e-01  5.11633299e-01]\n",
      " [ 3.67130885e-01  7.10818675e-01]\n",
      " [ 3.45679804e-01  6.58354700e-01]\n",
      " [ 4.20915838e-02  6.89600077e-01]\n",
      " [ 3.83741648e-01  6.34717561e-01]\n",
      " [ 5.14506365e-01  8.44048944e-01]\n",
      " [ 2.76167223e-01  9.45705232e-01]\n",
      " [ 2.18449189e-01  6.75830878e-01]\n",
      " [ 4.07888466e-01  9.08546431e-01]\n",
      " [ 2.09110411e-01  9.02095356e-01]\n",
      " [ 1.64322519e-01  7.36744499e-01]\n",
      " [ 6.78555813e-02  7.94828614e-01]\n",
      " [ 4.62563421e-01  8.52928098e-01]\n",
      " [ 3.47314812e-01  6.89924661e-01]\n",
      " [ 3.09456697e-01  7.98499425e-01]\n",
      " [ 5.74918821e-01  8.42307547e-01]\n",
      " [ 1.21665489e-01  8.87400876e-01]\n",
      " [ 2.67779212e-01  9.16770445e-01]\n",
      " [ 3.54660508e-01  4.95979588e-01]\n",
      " [ 8.15395090e-02  8.02651137e-01]\n",
      " [ 4.59255412e-01  7.70523048e-01]\n",
      " [ 2.98246563e-01  6.87958366e-01]\n",
      " [ 3.61490498e-01  7.49313561e-01]\n",
      " [ 4.77461226e-01  7.93262484e-01]\n",
      " [ 1.53819164e-01  7.36839523e-01]\n",
      " [ 1.21529425e-01  7.07453286e-01]\n",
      " [ 3.12868456e-01  6.54477783e-01]\n",
      " [ 3.19607258e-01  5.98517904e-01]\n",
      " [ 8.92014297e-02  7.37952738e-01]\n",
      " [ 2.38973007e-01  8.51248768e-01]\n",
      " [ 5.32304718e-01  7.32257269e-01]\n",
      " [-7.69986688e-01 -4.07024794e-01]\n",
      " [-8.63209929e-01 -3.54661765e-01]\n",
      " [-9.24584893e-01 -4.30469976e-01]\n",
      " [-8.83615588e-01 -3.65951956e-01]\n",
      " [-7.33794466e-01 -2.54954263e-01]\n",
      " [-8.09319711e-01 -4.14275193e-01]\n",
      " [-8.10844529e-01 -2.30598685e-01]\n",
      " [-7.92337154e-01 -4.41277578e-01]\n",
      " [-9.02388325e-01 -5.37997316e-01]\n",
      " [-9.78054488e-01 -3.20822488e-01]\n",
      " [-7.63813125e-01 -4.97667168e-01]\n",
      " [-5.20765105e-01 -3.05963376e-01]\n",
      " [-8.99540015e-01 -4.67795748e-01]\n",
      " [-7.10429060e-01 -7.76909956e-01]\n",
      " [-9.79631297e-01 -8.55290109e-01]\n",
      " [-5.93754357e-01 -6.82888514e-01]\n",
      " [-6.89602806e-01 -2.48311505e-01]\n",
      " [-6.04821220e-01 -1.50221970e-01]\n",
      " [-9.07823508e-01 -5.26564009e-01]\n",
      " [-9.17956855e-01 -2.97651646e-01]\n",
      " [-6.29804813e-01 -5.45959286e-01]\n",
      " [-6.62350179e-01 -5.11799564e-01]\n",
      " [-9.87602509e-01 -4.75512489e-01]\n",
      " [-7.82529289e-01 -3.18846695e-01]\n",
      " [-8.17343171e-01 -3.20544883e-01]\n",
      " [-4.40042328e-01 -1.30437022e-01]\n",
      " [-6.10032168e-01 -3.99272013e-01]\n",
      " [-6.55983271e-01 -5.32623495e-01]\n",
      " [-9.03683191e-01 -5.17457989e-01]\n",
      " [-7.29721947e-01 -4.56224746e-01]\n",
      " [-6.45592015e-01 -1.63424360e-01]\n",
      " [-5.25465147e-01 -1.68255595e-01]\n",
      " [-8.68184897e-01 -5.54131048e-01]\n",
      " [-7.59841320e-01 -2.29685975e-01]\n",
      " [-6.44333276e-01 -3.32541430e-01]\n",
      " [-7.64547745e-01 -4.91108290e-01]\n",
      " [-8.36731860e-01 -3.22626414e-01]\n",
      " [-4.33901984e-01 -5.17044255e-01]\n",
      " [-8.52885766e-01 -5.61379093e-01]\n",
      " [-5.46306831e-01 -3.18296828e-01]\n",
      " [-8.74236000e-01 -3.23514346e-01]\n",
      " [-8.98501640e-01 -4.05064968e-01]\n",
      " [-7.79029706e-01 -5.29390869e-01]\n",
      " [-5.12650148e-01 -8.61871910e-01]\n",
      " [-7.85616733e-01 -4.70243183e-01]\n",
      " [-7.89064947e-01  7.74874342e-01]\n",
      " [-9.05572117e-01  4.81411159e-01]\n",
      " [-6.97024496e-01  4.05399931e-01]\n",
      " [-7.74808810e-01  7.78718656e-01]\n",
      " [-7.38506706e-01  5.13429872e-01]\n",
      " [-6.00442318e-01  7.53237391e-01]\n",
      " [-7.94390606e-01  7.66576718e-01]\n",
      " [-6.84490691e-01  8.24874124e-01]\n",
      " [-6.03603178e-01  5.72450717e-01]\n",
      " [-5.74973981e-01  6.05022095e-01]\n",
      " [-7.20243963e-01  7.45964718e-01]\n",
      " [-7.35628007e-01  6.21187814e-01]\n",
      " [-6.98847216e-01  8.71436997e-01]\n",
      " [-8.07127854e-01  3.76834671e-01]\n",
      " [-5.70391451e-01  7.35672514e-01]\n",
      " [-8.35097236e-01  8.26648777e-01]\n",
      " [-7.62295384e-01  7.62945583e-01]\n",
      " [-5.93688215e-01  7.94046610e-01]\n",
      " [-9.45163295e-01  4.67972094e-01]\n",
      " [-9.00760253e-01  6.29424218e-01]\n",
      " [-6.57484323e-01  8.12180139e-01]\n",
      " [-7.59812249e-01  6.41168595e-01]\n",
      " [-8.58277509e-01  6.91299058e-01]\n",
      " [-9.75337493e-01  7.01055174e-01]\n",
      " [-9.66023087e-01  5.78150626e-01]\n",
      " [-4.24595426e-01  8.06769668e-01]\n",
      " [-7.98034674e-01  5.99199331e-01]\n",
      " [-6.12845993e-01  6.35118847e-01]\n",
      " [-7.86108331e-01  6.06352902e-01]\n",
      " [-9.45610112e-01  7.18292480e-01]\n",
      " [-7.42996353e-01  7.24479759e-01]\n",
      " [-9.19182858e-01  4.08290615e-01]\n",
      " [-7.50573324e-01  7.14879572e-01]\n",
      " [-7.30175977e-01  3.82682584e-01]\n",
      " [-7.43902118e-01  5.23197329e-01]\n",
      " [-7.01179022e-01  7.16550222e-01]\n",
      " [-9.43372141e-01  6.30228777e-01]\n",
      " [-7.39479596e-01  7.48967129e-01]\n",
      " [-7.95813695e-01  4.37434306e-01]\n",
      " [-6.64326564e-01  6.16503240e-01]\n",
      " [-4.62392042e-01  6.04313269e-01]\n",
      " [-7.54272456e-01  5.53987291e-01]\n",
      " [-7.79297738e-01  5.32551805e-01]\n",
      " [-6.92334624e-01  6.40358404e-01]\n",
      " [-8.18132435e-01  7.38904250e-01]\n",
      " [ 4.39973307e-01 -1.66067634e-01]\n",
      " [ 2.18087162e-01 -3.25354343e-02]\n",
      " [ 3.61423420e-01  5.29042707e-01]\n",
      " [ 5.55759319e-01 -1.25766787e-01]\n",
      " [-7.19416423e-03 -1.43110081e-01]\n",
      " [ 2.54072942e-01 -6.31233880e-02]\n",
      " [ 3.04885137e-01 -1.90691284e-01]\n",
      " [ 4.58821497e-01  2.38357570e-01]\n",
      " [ 1.58335709e-03 -8.22770962e-02]\n",
      " [ 3.94696730e-01  3.14643095e-02]\n",
      " [ 3.42578522e-01  2.11716808e-01]\n",
      " [ 3.17157085e-01  1.01912927e-02]\n",
      " [ 1.55301517e-01  2.71170082e-01]\n",
      " [ 4.83871887e-01 -2.53642848e-01]\n",
      " [ 1.46034808e-01  1.45767291e-01]\n",
      " [ 2.46194520e-01 -1.32587965e-01]\n",
      " [ 5.77397717e-01  8.91592898e-03]\n",
      " [ 2.40581880e-01 -1.71366820e-01]\n",
      " [ 5.14852676e-01  2.52231376e-02]\n",
      " [ 2.81171586e-01 -1.16136584e-01]\n",
      " [ 3.09346267e-01  9.06120223e-02]\n",
      " [ 4.73508548e-01 -1.68828651e-01]\n",
      " [ 5.42987638e-01  1.84518617e-01]\n",
      " [ 3.66036615e-01  6.72596295e-03]\n",
      " [ 3.09566491e-01 -3.41810277e-01]\n",
      " [ 1.07564653e-01 -1.55993032e-01]\n",
      " [ 3.79222534e-01 -2.56330737e-01]\n",
      " [ 5.46511691e-01 -6.99795710e-02]\n",
      " [ 4.27587240e-02 -3.26839646e-01]\n",
      " [ 3.08208899e-01 -6.72886631e-04]\n",
      " [ 5.09922990e-01  2.57890598e-01]\n",
      " [ 2.59797333e-01 -5.20139253e-02]\n",
      " [ 2.55367262e-01  1.15408218e-01]\n",
      " [ 2.35826313e-01 -1.96838548e-01]\n",
      " [ 1.86389534e-01  8.53938381e-03]\n",
      " [ 1.53232351e-01 -4.03090040e-03]\n",
      " [ 3.79040461e-01 -1.27477210e-02]\n",
      " [ 2.79511063e-01 -2.60347932e-01]\n",
      " [ 5.50632765e-01  2.21577502e-01]\n",
      " [ 2.27753968e-01  2.67677394e-02]\n",
      " [ 5.31520360e-01 -3.44787960e-01]\n",
      " [ 3.87254936e-01  2.97898554e-02]\n",
      " [ 3.44415751e-01 -2.07384895e-01]\n",
      " [ 4.60862913e-01  1.25225944e-01]\n",
      " [ 2.22133391e-01 -2.63050540e-01]\n",
      " [ 9.96231504e-01 -1.85134802e-01]\n",
      " [ 8.38266868e-01 -1.52310098e-01]\n",
      " [ 9.75192400e-01 -7.70624337e-02]\n",
      " [ 9.21519652e-01 -1.10263420e-01]\n",
      " [ 9.76112709e-01  2.69302403e-02]\n",
      " [ 7.99016294e-01 -1.76332978e-02]\n",
      " [ 9.10677199e-01 -9.99863560e-02]\n",
      " [ 8.76637593e-01 -4.23478162e-02]\n",
      " [ 6.12256975e-01 -7.50963149e-02]\n",
      " [ 7.77518307e-01  2.05579607e-01]\n",
      " [ 9.71637421e-01 -1.82859974e-01]\n",
      " [ 9.85881581e-01  3.30892903e-02]\n",
      " [ 9.74102807e-01  3.64135086e-03]\n",
      " [ 8.81332806e-01 -1.80685206e-01]\n",
      " [ 9.90106618e-01 -2.39346674e-01]\n",
      " [ 9.61504953e-01 -2.85692623e-01]\n",
      " [ 8.92454972e-01 -3.54657944e-02]\n",
      " [ 8.20243790e-01  6.03772362e-02]\n",
      " [ 8.88748869e-01 -4.98552509e-02]\n",
      " [ 9.78110695e-01 -1.75124163e-01]\n",
      " [ 8.73772451e-01 -2.18099456e-01]\n",
      " [ 7.76069243e-01 -5.74720942e-02]\n",
      " [ 7.45156710e-01 -1.30630837e-01]\n",
      " [ 8.66941719e-01  4.27398274e-02]\n",
      " [ 9.16201599e-01  1.19868951e-02]\n",
      " [ 8.55835873e-01  7.81697273e-02]\n",
      " [ 8.41304876e-01 -1.85780928e-01]\n",
      " [ 6.50573095e-01 -1.56318534e-01]\n",
      " [ 7.05722872e-01 -5.81191703e-02]\n",
      " [ 8.92925932e-01 -1.20765803e-01]\n",
      " [ 6.95894624e-01 -2.73455408e-01]\n",
      " [ 8.96139909e-01 -3.41814608e-01]\n",
      " [ 8.19105830e-01 -1.45208493e-01]\n",
      " [ 8.95868152e-01 -1.30815082e-01]\n",
      " [ 8.85390572e-01 -4.95546957e-02]\n",
      " [ 8.75923319e-01 -5.15437308e-02]\n",
      " [ 8.90268949e-01  4.96675478e-02]\n",
      " [ 9.03831385e-01 -1.90547995e-01]\n",
      " [ 9.11981647e-01 -8.21316084e-02]\n",
      " [ 8.99024369e-01  1.47297875e-01]\n",
      " [ 9.05591575e-01  9.29299361e-02]\n",
      " [ 8.32853951e-01 -8.08998876e-02]\n",
      " [ 9.86924499e-01 -2.04285953e-01]\n",
      " [ 8.70097428e-01 -3.08491761e-03]\n",
      " [ 9.24277295e-01 -2.67816664e-02]\n",
      " [-5.86882101e-01  6.20146096e-01]\n",
      " [-4.64636526e-01  5.33447969e-01]\n",
      " [-6.33436744e-01  4.88755833e-01]\n",
      " [-6.44452171e-01  5.25307091e-01]\n",
      " [-5.22595022e-01  5.07484736e-01]\n",
      " [-5.29639782e-01  5.01753601e-01]\n",
      " [-4.96266083e-01  6.39298879e-01]\n",
      " [-6.76734155e-01  3.60096641e-01]\n",
      " [-6.25407382e-01  5.77271727e-01]\n",
      " [-5.24562270e-01  5.17000254e-01]\n",
      " [-5.88597385e-01  2.93061538e-01]\n",
      " [-5.60218441e-01  3.92887846e-01]\n",
      " [-5.23494944e-01  5.34086851e-01]\n",
      " [-4.15788031e-01  8.28563758e-01]\n",
      " [-6.19991561e-01  5.31592801e-01]\n",
      " [-7.09030091e-01  4.63955157e-01]\n",
      " [-7.34289503e-01  6.18676098e-01]\n",
      " [-6.67139382e-01  3.52120036e-01]\n",
      " [-6.91513344e-01  5.89572028e-01]\n",
      " [-3.96543446e-01  5.41550782e-01]\n",
      " [-6.48502343e-01  7.05085143e-01]\n",
      " [-5.40191305e-01  4.46400237e-01]\n",
      " [-6.06297017e-01  6.02762641e-01]\n",
      " [-6.16302821e-01  4.16405063e-01]\n",
      " [-4.96285013e-01  5.64786251e-01]\n",
      " [-2.57152241e-01  6.49843957e-01]\n",
      " [-6.98209556e-01  4.51517921e-01]\n",
      " [-6.61018721e-01  5.06167095e-01]\n",
      " [-4.88304569e-01  5.99330037e-01]\n",
      " [-5.71489640e-01  5.03694010e-01]\n",
      " [-5.34349902e-01  3.35930005e-01]\n",
      " [-5.38379742e-01  5.14916631e-01]\n",
      " [-5.85490887e-01  7.49546998e-01]\n",
      " [-8.00688584e-01  6.66253387e-01]\n",
      " [-6.76992227e-01  5.54202666e-01]\n",
      " [-7.10670522e-01  4.52532777e-01]\n",
      " [-6.39042064e-01  5.12550336e-01]\n",
      " [-7.76256925e-01  3.73397684e-01]\n",
      " [-4.85588860e-01  6.26222553e-01]\n",
      " [-5.97736426e-01  6.32194354e-01]\n",
      " [-5.26437315e-01  5.43792288e-01]\n",
      " [-7.06211594e-01  6.30983029e-01]\n",
      " [-4.70187407e-01  7.63060666e-01]\n",
      " [-3.95676899e-01  5.42105116e-01]\n",
      " [-5.24339401e-01  4.33904966e-01]]\n"
     ]
    },
    {
     "data": {
      "text/plain": [
       "<matplotlib.collections.PathCollection at 0x1507bb090>"
      ]
     },
     "execution_count": 176,
     "metadata": {},
     "output_type": "execute_result"
    },
    {
     "data": {
      "image/png": "[encoded data removed]",
      "text/plain": [
       "<Figure size 640x480 with 1 Axes>"
      ]
     },
     "metadata": {},
     "output_type": "display_data"
    }
   ],
   "source": [
    "# get data from text file\n",
    "data = np.genfromtxt(\"data_kmeans.csv\", delimiter=\",\")\n",
    "print(data)\n",
    "plt.scatter(data[:,0],data[:,1], marker='.')"
   ]
  },
  {
   "cell_type": "markdown",
   "metadata": {},
   "source": [
    "Q1. Implement the function `generate_clusters` that returns clusters, given the cluster centroids (`mu`) and the dataset (`data`). Each datapoint needs to be associated to the closest cluster centroid."
   ]
  },
  {
   "cell_type": "code",
   "execution_count": 119,
   "metadata": {},
   "outputs": [],
   "source": [
    "def generate_clusters(data, mu):\n",
    "    # I want Clusters to be a map, with the key aligning to the cluster number and the values corresponding to a set of cluster data points.\n",
    "    #clusters = [[]]*len(mu)\n",
    "    clusters = {i : [] for i in range(len(mu))}\n",
    "    for dp in data :\n",
    "      \n",
    "        best_centroid = -1\n",
    "        min_dist = math.inf\n",
    "        for centroid in range(len(mu)):\n",
    "            dist = distance.euclidean(dp, mu[centroid])\n",
    "            if (dist < min_dist) :\n",
    "                best_centroid = centroid\n",
    "                min_dist = dist\n",
    "        clusters[best_centroid].append(dp)\n",
    "\n",
    "    return clusters\n",
    "\n"
   ]
  },
  {
   "cell_type": "markdown",
   "metadata": {},
   "source": [
    "Q2. Implement the function `recompute_centroids` that returns the centroids given a set of input clusters."
   ]
  },
  {
   "cell_type": "code",
   "execution_count": 120,
   "metadata": {
    "collapsed": true
   },
   "outputs": [],
   "source": [
    "def recompute_centroids(clusters):\n",
    "    # dimension = len(clusters[0][0])\n",
    "    # new_centriods = {i : j  : for j in range(dimension) for i in range(len(clusters))}\n",
    "    new_centroids = []\n",
    "    for cluster, dps in clusters.items() : \n",
    "        new_centroid = np.mean(dps, axis = 0)\n",
    "        new_centroids.append(new_centroid)\n",
    "    return new_centroids\n",
    "    # for index, cluster in clusters.items() :\n",
    "    #     sum = [0]*dimension\n",
    "\n",
    "    #     for dp in cluster :\n",
    "    #         for point in range(dimension) :\n",
    "    #             sum[point] = sum[point] + dp[point]\n",
    "\n",
    "    #     for d in range(dimension) :\n",
    "    #         new_centriods[index][d] = sum[point] / len(cluster)\n",
    "    # return new_centriods\n",
    "    \n"
   ]
  },
  {
   "cell_type": "markdown",
   "metadata": {},
   "source": [
    "Q3. Implement the function `check_convergence` that checks if the termination condition of the k-means algorithm has been reached, i.e. whether the previous centroids are the same as the new centroids. "
   ]
  },
  {
   "cell_type": "code",
   "execution_count": 121,
   "metadata": {},
   "outputs": [],
   "source": [
    "def check_convergence(mu, previous_mu):\n",
    "    for i in range(len(mu)) :\n",
    "        for j in range(len(mu[i])) :\n",
    "            if mu[i][j] != previous_mu[i][j] :\n",
    "                return False\n",
    "    return True\n",
    "    # return np.array_equal(mu, previous_mu)"
   ]
  },
  {
   "cell_type": "markdown",
   "metadata": {},
   "source": [
    "Q4. Implement the function `k_means_clustering` that returns k clusters along with their centroids, given the input dataset and the desired number of clusters (`k`).\n",
    "\n",
    "IMPORTANT: The actual k-means clustering algorithm starts by selecting k random centroids. For the purposes of this assignment, always choose the first k datapoints in the dataset to be your initial centroids."
   ]
  },
  {
   "cell_type": "code",
   "execution_count": 122,
   "metadata": {},
   "outputs": [],
   "source": [
    "def k_means_clustering(data, k):\n",
    "    mu = {i : [] for i in range(k)}\n",
    "    new_mu = {i : [] for i in range(k)}\n",
    "\n",
    "    for i in range(k) :\n",
    "        mu[i] = data[i]\n",
    "    clusters = generate_clusters(data, mu)\n",
    "    new_mu = recompute_centroids(clusters)\n",
    "    while not check_convergence(mu, new_mu): \n",
    "        mu = new_mu\n",
    "        clusters = generate_clusters(data, mu)\n",
    "        new_mu = recompute_centroids(clusters)\n",
    "    # your code goes here\n",
    "    return(mu, clusters)\n",
    "\n",
    "# res = generate_clusters(data, [[-0.2,-0.2], [0.2,0.2], [0,0]])\n",
    "# print(len(res[2]))\n",
    "# new_cent = recompute_centroids(res)\n",
    "# print(new_cent)"
   ]
  },
  {
   "cell_type": "markdown",
   "metadata": {},
   "source": [
    "Q5. Cluster the data using `k_means_clustering` with `k = 5`. Display the clusters using `plt.scatter` and mark each cluster with a different color. \n",
    "\n",
    "Also calculate the cohesion and separation for the resulting clustering."
   ]
  },
  {
   "cell_type": "code",
   "execution_count": 179,
   "metadata": {
    "collapsed": true
   },
   "outputs": [
    {
     "name": "stdout",
     "output_type": "stream",
     "text": [
      "48\n",
      "73\n",
      "47\n",
      "108\n",
      "174\n"
     ]
    },
    {
     "data": {
      "image/png": "[encoded data removed]",
      "text/plain": [
       "<Figure size 640x480 with 1 Axes>"
      ]
     },
     "metadata": {},
     "output_type": "display_data"
    }
   ],
   "source": [
    "centroids, clusters = k_means_clustering(data, 5)\n",
    "colors = [\"red\", \"blue\", \"yellow\", \"green\", \"black\"]\n",
    "# print(clusters[0][0])\n",
    "\n",
    "for cluster in range(len(clusters)):\n",
    "    print(len(clusters[cluster]))\n",
    "    # print(clusters[cluster][:1])\n",
    "    for point in clusters[cluster] : \n",
    "        plt.scatter(point[0], point[1], marker='.', color=colors[cluster])\n",
    "        \n",
    "    # print(cluster[2])\n",
    "\n",
    "\n"
   ]
  },
  {
   "cell_type": "markdown",
   "metadata": {},
   "source": [
    "Q6. Find the best k for this dataset by plotting SSE vs k for k = 1-10. Based on your plot, which value of k would you choose and why? (Answer as a comment.)"
   ]
  },
  {
   "cell_type": "code",
   "execution_count": null,
   "metadata": {
    "collapsed": true
   },
   "outputs": [],
   "source": [
    "# your code goes here\n"
   ]
  },
  {
   "cell_type": "markdown",
   "metadata": {},
   "source": [
    "## Part 2: Implement DBSCAN\n",
    "\n",
    "For this part you'll be implementing DBSCAN, one of the most popular density-based clustering algorithms."
   ]
  },
  {
   "cell_type": "code",
   "execution_count": null,
   "metadata": {},
   "outputs": [
    {
     "name": "stdout",
     "output_type": "stream",
     "text": [
      "<class 'numpy.ndarray'>\n"
     ]
    },
    {
     "data": {
      "image/png": "[encoded data removed]",
      "text/plain": [
       "<Figure size 432x288 with 1 Axes>"
      ]
     },
     "metadata": {},
     "output_type": "display_data"
    }
   ],
   "source": [
    "# get data from text file\n",
    "data = np.genfromtxt(\"data_dbscan.csv\", delimiter=\",\")\n",
    "plt.scatter(data[:,0],data[:,1], marker='.')\n",
    "print(type(data))"
   ]
  },
  {
   "cell_type": "markdown",
   "metadata": {},
   "source": [
    "Q7. First, run your `k_means_clustering` with `k = 2` on this dataset and display the output clusters. Make sure  different clusters are marked with different colors. What do you observe? (Answer as a comment.)"
   ]
  },
  {
   "cell_type": "code",
   "execution_count": null,
   "metadata": {
    "collapsed": true
   },
   "outputs": [],
   "source": [
    "centroids, clusters = k_means_clustering(data, 2)\n",
    "colors = [\"red\", \"blue\"]\n",
    "# print(clusters[0][0])\n",
    "\n",
    "for cluster in range(len(clusters)):\n",
    "    print(len(clusters[cluster]))\n",
    "    # print(clusters[cluster][:1])\n",
    "    for point in clusters[cluster] : \n",
    "        plt.scatter(point[0], point[1], marker='.', color=colors[cluster])\n",
    "        \n",
    "    # print(cluster[2])\n",
    "\n",
    "\n"
   ]
  },
  {
   "cell_type": "markdown",
   "metadata": {},
   "source": [
    "Q8. Implement the DBSCAN algorithm and display the output clusters. \n",
    "\n",
    "There is a  pseudocode version of the DBSCAN algorithm on [Wikipedia](https://en.wikipedia.org/wiki/DBSCAN#Algorithm) that you are welcome to follow. \n",
    "\n",
    "(If you are not familiar with the `continue` statement, look [here](https://www.tutorialspoint.com/python/python_loop_control.htm) for what it does - it may not do what you think!)\n",
    "\n",
    "Run your DBSCAN clustering on the data with eps = 0.28 and minPts = 8. Plot the resulting clusters with each cluster, and noise, indicated by different colors. "
   ]
  },
  {
   "cell_type": "code",
   "execution_count": null,
   "metadata": {},
   "outputs": [],
   "source": [
    "# your code goes here"
   ]
  },
  {
   "cell_type": "markdown",
   "metadata": {},
   "source": [
    "## Part 3: Clustering with scikit-learn and scipy"
   ]
  },
  {
   "cell_type": "markdown",
   "metadata": {},
   "source": [
    "#### Data\n",
    "\n",
    "For this part of the assigment you'll be working with the Epileptic Seizure Recognition Data Set developed at Rochester Institute of Technology. In this data set each row is a sample of the EEG recording at a different point in time. The dataset contains 179 columns, the first 178 are the EEG features while the last column represents the label y {1, 2, 3, 4, 5}. All subjects falling in classes 2, 3, 4, and 5 are subjects who did not have epileptic seizure. Only subjects in class 1 have an epileptic seizure. The class labels will not be used for our *unsupervised* clustering - they will just be used for plotting the data. The only change that was made to the original dataset was removing the first column, which contained the row indexes. You can find additional information about the dataset [here](https://archive.ics.uci.edu/ml/datasets/Epileptic+Seizure+Recognition)."
   ]
  },
  {
   "cell_type": "code",
   "execution_count": null,
   "metadata": {},
   "outputs": [
    {
     "name": "stdout",
     "output_type": "stream",
     "text": [
      "(11500, 179)\n"
     ]
    },
    {
     "data": {
      "text/html": [
       "<div>\n",
       "<style scoped>\n",
       "    .dataframe tbody tr th:only-of-type {\n",
       "        vertical-align: middle;\n",
       "    }\n",
       "\n",
       "    .dataframe tbody tr th {\n",
       "        vertical-align: top;\n",
       "    }\n",
       "\n",
       "    .dataframe thead th {\n",
       "        text-align: right;\n",
       "    }\n",
       "</style>\n",
       "<table border=\"1\" class=\"dataframe\">\n",
       "  <thead>\n",
       "    <tr style=\"text-align: right;\">\n",
       "      <th></th>\n",
       "      <th>X1</th>\n",
       "      <th>X2</th>\n",
       "      <th>X3</th>\n",
       "      <th>X4</th>\n",
       "      <th>X5</th>\n",
       "      <th>X6</th>\n",
       "      <th>X7</th>\n",
       "      <th>X8</th>\n",
       "      <th>X9</th>\n",
       "      <th>X10</th>\n",
       "      <th>...</th>\n",
       "      <th>X170</th>\n",
       "      <th>X171</th>\n",
       "      <th>X172</th>\n",
       "      <th>X173</th>\n",
       "      <th>X174</th>\n",
       "      <th>X175</th>\n",
       "      <th>X176</th>\n",
       "      <th>X177</th>\n",
       "      <th>X178</th>\n",
       "      <th>y</th>\n",
       "    </tr>\n",
       "  </thead>\n",
       "  <tbody>\n",
       "    <tr>\n",
       "      <th>0</th>\n",
       "      <td>135</td>\n",
       "      <td>190</td>\n",
       "      <td>229</td>\n",
       "      <td>223</td>\n",
       "      <td>192</td>\n",
       "      <td>125</td>\n",
       "      <td>55</td>\n",
       "      <td>-9</td>\n",
       "      <td>-33</td>\n",
       "      <td>-38</td>\n",
       "      <td>...</td>\n",
       "      <td>-17</td>\n",
       "      <td>-15</td>\n",
       "      <td>-31</td>\n",
       "      <td>-77</td>\n",
       "      <td>-103</td>\n",
       "      <td>-127</td>\n",
       "      <td>-116</td>\n",
       "      <td>-83</td>\n",
       "      <td>-51</td>\n",
       "      <td>4</td>\n",
       "    </tr>\n",
       "    <tr>\n",
       "      <th>1</th>\n",
       "      <td>386</td>\n",
       "      <td>382</td>\n",
       "      <td>356</td>\n",
       "      <td>331</td>\n",
       "      <td>320</td>\n",
       "      <td>315</td>\n",
       "      <td>307</td>\n",
       "      <td>272</td>\n",
       "      <td>244</td>\n",
       "      <td>232</td>\n",
       "      <td>...</td>\n",
       "      <td>164</td>\n",
       "      <td>150</td>\n",
       "      <td>146</td>\n",
       "      <td>152</td>\n",
       "      <td>157</td>\n",
       "      <td>156</td>\n",
       "      <td>154</td>\n",
       "      <td>143</td>\n",
       "      <td>129</td>\n",
       "      <td>1</td>\n",
       "    </tr>\n",
       "    <tr>\n",
       "      <th>2</th>\n",
       "      <td>-32</td>\n",
       "      <td>-39</td>\n",
       "      <td>-47</td>\n",
       "      <td>-37</td>\n",
       "      <td>-32</td>\n",
       "      <td>-36</td>\n",
       "      <td>-57</td>\n",
       "      <td>-73</td>\n",
       "      <td>-85</td>\n",
       "      <td>-94</td>\n",
       "      <td>...</td>\n",
       "      <td>57</td>\n",
       "      <td>64</td>\n",
       "      <td>48</td>\n",
       "      <td>19</td>\n",
       "      <td>-12</td>\n",
       "      <td>-30</td>\n",
       "      <td>-35</td>\n",
       "      <td>-35</td>\n",
       "      <td>-36</td>\n",
       "      <td>5</td>\n",
       "    </tr>\n",
       "    <tr>\n",
       "      <th>3</th>\n",
       "      <td>-105</td>\n",
       "      <td>-101</td>\n",
       "      <td>-96</td>\n",
       "      <td>-92</td>\n",
       "      <td>-89</td>\n",
       "      <td>-95</td>\n",
       "      <td>-102</td>\n",
       "      <td>-100</td>\n",
       "      <td>-87</td>\n",
       "      <td>-79</td>\n",
       "      <td>...</td>\n",
       "      <td>-82</td>\n",
       "      <td>-81</td>\n",
       "      <td>-80</td>\n",
       "      <td>-77</td>\n",
       "      <td>-85</td>\n",
       "      <td>-77</td>\n",
       "      <td>-72</td>\n",
       "      <td>-69</td>\n",
       "      <td>-65</td>\n",
       "      <td>5</td>\n",
       "    </tr>\n",
       "    <tr>\n",
       "      <th>4</th>\n",
       "      <td>-9</td>\n",
       "      <td>-65</td>\n",
       "      <td>-98</td>\n",
       "      <td>-102</td>\n",
       "      <td>-78</td>\n",
       "      <td>-48</td>\n",
       "      <td>-16</td>\n",
       "      <td>0</td>\n",
       "      <td>-21</td>\n",
       "      <td>-59</td>\n",
       "      <td>...</td>\n",
       "      <td>4</td>\n",
       "      <td>2</td>\n",
       "      <td>-12</td>\n",
       "      <td>-32</td>\n",
       "      <td>-41</td>\n",
       "      <td>-65</td>\n",
       "      <td>-83</td>\n",
       "      <td>-89</td>\n",
       "      <td>-73</td>\n",
       "      <td>5</td>\n",
       "    </tr>\n",
       "  </tbody>\n",
       "</table>\n",
       "<p>5 rows × 179 columns</p>\n",
       "</div>"
      ],
      "text/plain": [
       "    X1   X2   X3   X4   X5   X6   X7   X8   X9  X10 ...  X170  X171  X172  \\\n",
       "0  135  190  229  223  192  125   55   -9  -33  -38 ...   -17   -15   -31   \n",
       "1  386  382  356  331  320  315  307  272  244  232 ...   164   150   146   \n",
       "2  -32  -39  -47  -37  -32  -36  -57  -73  -85  -94 ...    57    64    48   \n",
       "3 -105 -101  -96  -92  -89  -95 -102 -100  -87  -79 ...   -82   -81   -80   \n",
       "4   -9  -65  -98 -102  -78  -48  -16    0  -21  -59 ...     4     2   -12   \n",
       "\n",
       "   X173  X174  X175  X176  X177  X178  y  \n",
       "0   -77  -103  -127  -116   -83   -51  4  \n",
       "1   152   157   156   154   143   129  1  \n",
       "2    19   -12   -30   -35   -35   -36  5  \n",
       "3   -77   -85   -77   -72   -69   -65  5  \n",
       "4   -32   -41   -65   -83   -89   -73  5  \n",
       "\n",
       "[5 rows x 179 columns]"
      ]
     },
     "execution_count": 5,
     "metadata": {},
     "output_type": "execute_result"
    }
   ],
   "source": [
    "# Reading the Epileptic Seizure Data Set\n",
    "dataset = pd.read_csv(\"data_seizure_edited.csv\", header = 0)\n",
    "print(dataset.shape)\n",
    "\n",
    "#split the dataset into features and labels\n",
    "labels = dataset['y']\n",
    "raw_data = dataset.drop('y', axis = 1)\n",
    "\n",
    "dataset.head()"
   ]
  },
  {
   "cell_type": "markdown",
   "metadata": {},
   "source": [
    "#### Data scaling & dimensionality reduction with PCA\n",
    "Both K-means and DBSCAN break down in high dimensions, as distance (and thus density) become less meaningful in high dimensions. So, before we run either of these clustering algorithms, we want to reduce the dimensionality of our dataset. Recall that it is critical to scale your data prior to running PCA. "
   ]
  },
  {
   "cell_type": "markdown",
   "metadata": {},
   "source": [
    "Q9. \n",
    "* Use `sklearn.preprocessing.StandardScaler` to standardize the dataset’s features (mean = 0 and variance = 1). Only standardize the the features, not the class labels! This will be required for running the principal component analysis (PCA) dimensionality reduction. Note that `StandardScaler` returns a numpy array.\n",
    "* Use `sklearn.decomposition.PCA` to perform PCA on the data.\n",
    "* Set `n_components` to 0.95 and `svd_solver` to 'full', so that the PCA will reduce the number of dimensions to however many are necessary to retain 95% of the variance. \n",
    "* Use `fit_transform` to perform the dimensionality reduction. \n",
    "* Note that `fit_transform` returns a numpy array. Put your transformed data back into a Pandas DataFrame by doing something like this (subsitute your variable names): `data = DataFrame(pca_data)`.\n",
    "* Show the head of the resulting DataFrame (and make sure the dimensionality has actually been reduced)."
   ]
  },
  {
   "cell_type": "code",
   "execution_count": null,
   "metadata": {},
   "outputs": [],
   "source": [
    "# your code goes here"
   ]
  },
  {
   "cell_type": "markdown",
   "metadata": {},
   "source": [
    "Q10. You are provided code here to plot the data. This code randomly samples 300 rows from the entire dataset, then uses `sklearn.manifold.MDS` to project the data onto two dimensions, and plots it on a scatter plot. The points will be marked with appropriate colors based on their labels. This is the only time labels will be used.\n",
    "* Pass your dataset (that has been reduced in dimensions from Q9) and the labels into this scatter function. Verify that the plot looks like 2 clusters: an inner cluster (non-seizure patients, labels 2-5, will be blue/green/yellow), and an outer cluster (seizure patients, label 1, will be purple)."
   ]
  },
  {
   "cell_type": "code",
   "execution_count": null,
   "metadata": {},
   "outputs": [],
   "source": [
    "# do not change this plotting function!\n",
    "def scatter(data, labels, numPoints = 300):\n",
    "\n",
    "    numEntries = data.shape[0]\n",
    "    start = random.randint(0, numEntries - numPoints)\n",
    "    end = start + numPoints\n",
    "    data = data.iloc[start:end, :]\n",
    "    labels = labels.iloc[start:end]\n",
    "    \n",
    "    mds = MDS(n_components=2)\n",
    "    mds_data = mds.fit_transform(data)\n",
    "    plt.scatter(mds_data[:, 0], mds_data[:, 1], c=labels, s=50)\n",
    "    plt.show()\n",
    "\n",
    "# your code goes here"
   ]
  },
  {
   "cell_type": "markdown",
   "metadata": {},
   "source": [
    "#### Clustering with DBSCAN"
   ]
  },
  {
   "cell_type": "markdown",
   "metadata": {},
   "source": [
    "Recall that for DBSCAN, we need to select an Eps and a MinPts. If we choose MinPts to be 4, then Eps can be selected by plotting the distance of every point to its 4th nearest neighbor and finding the \"bend\" in the graph. \n",
    "\n",
    "Q11. Find the optimal Eps for this dataset by plotting the distances of every point to its 4th nearest neighbor.\n",
    "* Use `sklearn.neighbors.NearestNeighbors` with `n_neighbors=4`. Call `fit` on your data.\n",
    "* Use the `kneighbors` method to find the distance of each point to its 4th nearest neighbor. Note that `kneighbors` returns two values. The first return value is a matrix of distances from each point to its k nearest neighbors. \n",
    "\n",
    "* Sklearn considers the distance from the point to itself as the closest neighbor (a distance of 0), then if the point is a distance of 2.5 away from its second nearest neighbor, a distance of 3.7 away from its third nearest neighbor, and a distance of 4.2 away from its fourth nearest neighbor, the row in the distance matrix for this point would look like: `[0, 2.5, 3.7, 4.2]`, indicating that 4.2 is the distance from this point to it's 4th nearest neighbor. \n",
    "\n",
    "* Plot the distance of every point to its 4th nearest neighbor. Be sure to sort the distances before you plot them. You can use `plt.plot(distances)` then `plt.show()` to plot them. \n",
    "* Use the plot to determine the best Eps for this dataset (just eyeball it)."
   ]
  },
  {
   "cell_type": "code",
   "execution_count": null,
   "metadata": {},
   "outputs": [],
   "source": [
    "# your code goes here"
   ]
  },
  {
   "cell_type": "markdown",
   "metadata": {},
   "source": [
    "Q12. \n",
    "* Using MinPts=4 and Eps=the distance you determined from Q11, cluster the data using `sklearn.cluster.DBSCAN`. Call `fit_predict` on your data and store the return value (the predicted cluster label for each data point). Note that the returned type is a numpy array. \n",
    "* Use the provided `scatter` function (Q10) to plot the resulting clusters. You will need to convert the numpy array of predicted labels to a `Series` in order to pass it in to `scatter`."
   ]
  },
  {
   "cell_type": "code",
   "execution_count": null,
   "metadata": {},
   "outputs": [],
   "source": [
    "# your code goes here"
   ]
  },
  {
   "cell_type": "markdown",
   "metadata": {},
   "source": [
    "#### Clustering with K-means"
   ]
  },
  {
   "cell_type": "markdown",
   "metadata": {},
   "source": [
    "Q13. \n",
    "* Use `sklearn.cluster.KMeans` to cluster this data using k-means. Try values of k from 2 to 5. You will need to call `fit_predict` on your data and store the return value (the predicted cluster label for each data point). Note that the returned type is a numpy array. \n",
    "* Use `sklearn.metrics.silhouette_score` to determine an appropriate number of clusters for this dataset. \n",
    "* Use the provided `scatter` function (Q10) to plot the clustering that resulted in the best silhouette score. Note that you will need to cast the predicted cluster labels (a numpy array) to a Series in order to pass it in to `scatter`."
   ]
  },
  {
   "cell_type": "code",
   "execution_count": null,
   "metadata": {},
   "outputs": [],
   "source": [
    "# your code goes here"
   ]
  },
  {
   "cell_type": "markdown",
   "metadata": {},
   "source": [
    "Q14. What do you observe about the results of DBSCAN vs the results of k-means? Answer as a comment."
   ]
  },
  {
   "cell_type": "code",
   "execution_count": null,
   "metadata": {},
   "outputs": [],
   "source": [
    "'''\n",
    "Your answer goes here.\n",
    "'''"
   ]
  },
  {
   "cell_type": "markdown",
   "metadata": {},
   "source": [
    "#### Hierarchical Clustering"
   ]
  },
  {
   "cell_type": "markdown",
   "metadata": {},
   "source": [
    "For hierarchical clustering (Q15 and Q16), you'll work with a sample of only 115 datapoints. The function to downsample the dataset is provided here for you."
   ]
  },
  {
   "cell_type": "code",
   "execution_count": null,
   "metadata": {},
   "outputs": [],
   "source": [
    "# Do not change the code in this cell\n",
    "# stratified sampling of the data\n",
    "def downsample_data(data, labels):\n",
    "    downData = None\n",
    "    downLabels = None\n",
    "\n",
    "    kfold = StratifiedKFold(n_splits = 100, shuffle = False)\n",
    "    for throwAway_index, subsample_index in kfold.split(data, labels):\n",
    "        downData = data.iloc[subsample_index]\n",
    "        downLabels = labels.iloc[subsample_index]\n",
    "        break\n",
    "    \n",
    "    print(downData.shape)\n",
    "    return downData"
   ]
  },
  {
   "cell_type": "markdown",
   "metadata": {},
   "source": [
    "Q15. Use Scipy's hierarchical clustering (`scipy.cluster.hierarchy`) to cluster the data using different linkage methods. **Make sure you are using a down-sampled dataset by passing your dataset into the provided downsample_data() function.**\n",
    "\n",
    "* Try all of these linkage methods: `single`, `complete`, `average`, `centroid`, `ward`\n",
    "* Note that the return value of the clustering is a linkage matrix (a cophenetic distance matrix)\n",
    "\n",
    "* Calculate the CPCC of each linkage method to determine which method worked best. Use `scipy.cluster.hierarchy.cophenet` for this. You'll pass in the linkage matrix from the clustering, and a proximity matrix that contains the actual distances between each point, which you can get by using `scipy.spatial.distance.pdist`. "
   ]
  },
  {
   "cell_type": "code",
   "execution_count": null,
   "metadata": {},
   "outputs": [],
   "source": [
    "# Make sure to pass your dataset into downsample_data() \n",
    "# and use the resulting smaller dataset for hierachical clustering\n",
    "\n",
    "# Pass the down-sampled dataset into pdist to get your proximity matrix for calculating CPCC\n",
    "proximity_matrix = pdist(sampled_dataset_goes_here)\n",
    "\n",
    "# the rest of your code goes here"
   ]
  },
  {
   "cell_type": "markdown",
   "metadata": {},
   "source": [
    "Q16. Using the best linkage method that you found in Q7, plot the dendrogram with `scipy.cluster.hierarchy.dendrogram`. (The labels on the x-axis will be too small to read - that is ok!)"
   ]
  },
  {
   "cell_type": "code",
   "execution_count": null,
   "metadata": {},
   "outputs": [],
   "source": [
    "# your code goes here"
   ]
  },
  {
   "cell_type": "markdown",
   "metadata": {},
   "source": [
    "#### Anomaly Detection (AD)\n",
    "\n",
    "Anomaly detection (AD) algorithms can be broadly classified into 3 classes:\n",
    "- Supervised AD (labels available for both normal data and anomalies)\n",
    "- Semi-supervised AD, also called Novelty Detection (only normal data is available to train on)\n",
    "- Unsupervised AD, also called Outlier Detection (no labels are provided)\n",
    "\n",
    "In this part you'll experiment with 4 datasets and compare 4 different outlier detection (Unsupervised AD) methods."
   ]
  },
  {
   "cell_type": "code",
   "execution_count": null,
   "metadata": {},
   "outputs": [
    {
     "name": "stdout",
     "output_type": "stream",
     "text": [
      "data1.csv (445, 2)\n",
      "data2.csv (314, 2)\n",
      "data3.csv (419, 2)\n",
      "data4.csv (441, 2)\n"
     ]
    }
   ],
   "source": [
    "# loading the datasets\n",
    "filenames = ['data1.csv', 'data2.csv', 'data3.csv', 'data4.csv']\n",
    "datasets = [np.loadtxt(fname, delimiter=', ') for fname in filenames]\n",
    "for fname, data in zip(filenames, datasets):\n",
    "    print (fname, data.shape)"
   ]
  },
  {
   "cell_type": "markdown",
   "metadata": {},
   "source": [
    "Q17. Detect the outliers in all 4 datasets using the following algorithms:\n",
    "- `sklearn.covariance.EllipticEnvelope` - a statistical-based AD method\n",
    "- `sklearn.ensemble.IsolationForest` - an isolation-based AD method\n",
    "- `sklearn.neighbors.LocalOutlierFactor` - a density-based AD method\n",
    "- `sklearn.svm.OneClassSVM` - a model-based AD method\n",
    "\n",
    "Create scatterplots that show the outliers detected in each dataset with each method. (16 plots in total.)\n",
    "\n",
    "The following plotting function is provided for you. You should pass in a list of y_pred values corresponding to all 16 of your plots. \n",
    "\n",
    "In order for this plotting function to work correctly, the order of your list should be: EllipticEnvelope on dataset1, IsolationForest on dataset1, LocalOutlierFactor on dataset1, OneClassSVM on dataset1, EllipticEnvelope on ds2, IsolationForest on ds2, LocalOutlierFactor on ds2, OneClassSVM on ds2, EE on ds3, IF on ds3, LOF on ds3, SVM on ds3, EE on ds4, IF on ds4, LOF on ds4, SVM on ds4."
   ]
  },
  {
   "cell_type": "code",
   "execution_count": null,
   "metadata": {},
   "outputs": [],
   "source": [
    "# Do not change the code in this cell!\n",
    "# Create all 16 anomaly detection plots\n",
    "def plot_all(y_preds):\n",
    "    \n",
    "    print(\"len(y_preds):\", len(y_preds))\n",
    "    \n",
    "    names = ['Robust Covariance', 'Isolation Forest', 'Local Outlier Factor', 'One-Class SVM']\n",
    "    plt.figure(figsize=(len(names) * 2 + 3, 12.5))\n",
    "    plt.subplots_adjust(left=.02, right=.98, bottom=.001, top=.96, wspace=.05, hspace=.01)\n",
    "    plot_num = 1\n",
    "    \n",
    "    for i_dataset in range(len(datasets)):\n",
    "        for j_algorithm in range(len(names)):\n",
    "            \n",
    "            plt.subplot(len(datasets), len(names), plot_num)\n",
    "            if i_dataset == 0:\n",
    "                plt.title(names[j_algorithm], size=18)\n",
    "\n",
    "            colors = np.array(['#377eb8', '#ff7f00'])\n",
    "            plt.scatter(datasets[i_dataset][:, 0], datasets[i_dataset][:, 1], \n",
    "                        s=10, color=colors[(y_preds[plot_num-1] + 1) // 2])\n",
    "\n",
    "            plt.xlim(-7, 7)\n",
    "            plt.ylim(-7, 7)\n",
    "            plt.xticks(())\n",
    "            plt.yticks(())\n",
    "            \n",
    "            plot_num += 1\n",
    "\n",
    "    plt.show()"
   ]
  },
  {
   "cell_type": "markdown",
   "metadata": {},
   "source": [
    "Directions:\n",
    "* Use a `contamination` (or `nu` for `OneClassSVM`) of 0.25.\n",
    "* For the `OneClassSVM` use `rbf` kernel.\n",
    "* NOTE: To preform AD in an unsupervised way, you will pass the same dataset into `fit` and `predict.`\n",
    "\n",
    "Some code is provided here to get you started."
   ]
  },
  {
   "cell_type": "code",
   "execution_count": null,
   "metadata": {},
   "outputs": [],
   "source": [
    "from sklearn.covariance import EllipticEnvelope\n",
    "from sklearn.ensemble import IsolationForest\n",
    "from sklearn.neighbors import LocalOutlierFactor\n",
    "from sklearn.svm import OneClassSVM\n",
    "\n",
    "\n",
    "outliers_fraction = 0.25\n",
    "\n",
    "#this will be your list of 16 plots\n",
    "y_pred_list = list()\n",
    "\n",
    "#for each of the 4 datasets\n",
    "for X in datasets:\n",
    "    \n",
    "    #apply EllipticEnvelope AD\n",
    "    #append resulting y_pred to y_pred_list\n",
    "    \n",
    "    #apply IsolationForest AD\n",
    "    #append resulting y_pred to y_pred_list\n",
    "    \n",
    "    #apply LocalOutlierFactor AD\n",
    "    #append resulting y_pred to y_pred_list\n",
    "\n",
    "    #apply OneClassSVM AD\n",
    "    #append resulting y_pred to y_pred_list\n",
    "\n",
    " \n",
    "\n",
    "plot_all(y_pred_list)"
   ]
  }
 ],
 "metadata": {
  "kernelspec": {
   "display_name": "Python 3 (ipykernel)",
   "language": "python",
   "name": "python3"
  },
  "language_info": {
   "codemirror_mode": {
    "name": "ipython",
    "version": 3
   },
   "file_extension": ".py",
   "mimetype": "text/x-python",
   "name": "python",
   "nbconvert_exporter": "python",
   "pygments_lexer": "ipython3",
   "version": "3.11.5"
  }
 },
 "nbformat": 4,
 "nbformat_minor": 2
}
